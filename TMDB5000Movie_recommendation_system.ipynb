{
 "cells": [
  {
   "cell_type": "markdown",
   "id": "2731d435",
   "metadata": {},
   "source": [
    "https://www.projectpro.io/article/recommender-systems-python-methods-and-algorithms/413"
   ]
  },
  {
   "cell_type": "code",
   "execution_count": null,
   "id": "1540dba6",
   "metadata": {},
   "outputs": [],
   "source": [
    "https://www.datacamp.com/tutorial/recommender-systems-python"
   ]
  },
  {
   "cell_type": "markdown",
   "id": "efe96d9f",
   "metadata": {},
   "source": [
    "# Download the datasets"
   ]
  },
  {
   "cell_type": "code",
   "execution_count": 2,
   "id": "f82a1752",
   "metadata": {
    "scrolled": false
   },
   "outputs": [
    {
     "name": "stdout",
     "output_type": "stream",
     "text": [
      "--2023-04-13 03:15:22--  https://files.grouplens.org/datasets/movielens/ml-latest.zip\n",
      "Resolving files.grouplens.org (files.grouplens.org)... 128.101.65.152\n",
      "Connecting to files.grouplens.org (files.grouplens.org)|128.101.65.152|:443... connected.\n",
      "HTTP request sent, awaiting response... 200 OK\n",
      "Length: 277113433 (264M) [application/zip]\n",
      "Saving to: ‘ml-latest.zip’\n",
      "\n",
      "ml-latest.zip       100%[===================>] 264.28M  5.72MB/s    in 83s     \n",
      "\n",
      "2023-04-13 03:16:46 (3.20 MB/s) - ‘ml-latest.zip’ saved [277113433/277113433]\n",
      "\n"
     ]
    }
   ],
   "source": [
    "!wget https://files.grouplens.org/datasets/movielens/ml-latest.zip"
   ]
  },
  {
   "cell_type": "code",
   "execution_count": 3,
   "id": "8b5bb474",
   "metadata": {
    "scrolled": true
   },
   "outputs": [
    {
     "name": "stdout",
     "output_type": "stream",
     "text": [
      "ml-latest.zip\r\n"
     ]
    }
   ],
   "source": [
    "!ls ml-latest.zip"
   ]
  },
  {
   "cell_type": "markdown",
   "id": "854d196e",
   "metadata": {},
   "source": [
    "# Import the necessary libraries"
   ]
  },
  {
   "cell_type": "code",
   "execution_count": 7,
   "id": "d6e2932b",
   "metadata": {},
   "outputs": [],
   "source": [
    "import zipfile\n",
    "import pandas as pd\n",
    "import numpy as np"
   ]
  },
  {
   "cell_type": "markdown",
   "id": "e1dc9a19",
   "metadata": {},
   "source": [
    "# Extract the datasets"
   ]
  },
  {
   "cell_type": "code",
   "execution_count": 4,
   "id": "91ef52bc",
   "metadata": {},
   "outputs": [],
   "source": [
    "zipfile = zipfile.ZipFile(\"ml-latest.zip\")\n",
    "zipfile.extractall()\n",
    "zipfile.close()"
   ]
  },
  {
   "cell_type": "code",
   "execution_count": 11,
   "id": "d6d3fd0e",
   "metadata": {},
   "outputs": [
    {
     "name": "stdout",
     "output_type": "stream",
     "text": [
      "README.txt\t   genome-tags.csv  movies.csv\t tags.csv\r\n",
      "genome-scores.csv  links.csv\t    ratings.csv\r\n"
     ]
    }
   ],
   "source": [
    "!ls ml-latest"
   ]
  },
  {
   "cell_type": "markdown",
   "id": "6a8b04e6",
   "metadata": {},
   "source": [
    "# Load the datasets"
   ]
  },
  {
   "cell_type": "code",
   "execution_count": 31,
   "id": "d482b350",
   "metadata": {},
   "outputs": [],
   "source": [
    "genome_tags = pd.read_csv(\"ml-latest/genome-tags.csv\", header=0, names=[\"tagId\", \"genome_tag\"])\n",
    "movies = pd.read_csv(\"ml-latest/movies.csv\")\n",
    "tags = pd.read_csv(\"ml-latest/tags.csv\")\n",
    "genome_scores = pd.read_csv(\"ml-latest/genome-scores.csv\")\n",
    "links = pd.read_csv(\"ml-latest/links.csv\")\n",
    "ratings = pd.read_csv(\"ml-latest/ratings.csv\")"
   ]
  },
  {
   "cell_type": "code",
   "execution_count": 32,
   "id": "d0fdee6b",
   "metadata": {},
   "outputs": [
    {
     "data": {
      "text/html": [
       "<div>\n",
       "<style scoped>\n",
       "    .dataframe tbody tr th:only-of-type {\n",
       "        vertical-align: middle;\n",
       "    }\n",
       "\n",
       "    .dataframe tbody tr th {\n",
       "        vertical-align: top;\n",
       "    }\n",
       "\n",
       "    .dataframe thead th {\n",
       "        text-align: right;\n",
       "    }\n",
       "</style>\n",
       "<table border=\"1\" class=\"dataframe\">\n",
       "  <thead>\n",
       "    <tr style=\"text-align: right;\">\n",
       "      <th></th>\n",
       "      <th>tagId</th>\n",
       "      <th>genome_tag</th>\n",
       "    </tr>\n",
       "  </thead>\n",
       "  <tbody>\n",
       "    <tr>\n",
       "      <th>0</th>\n",
       "      <td>1</td>\n",
       "      <td>007</td>\n",
       "    </tr>\n",
       "    <tr>\n",
       "      <th>1</th>\n",
       "      <td>2</td>\n",
       "      <td>007 (series)</td>\n",
       "    </tr>\n",
       "    <tr>\n",
       "      <th>2</th>\n",
       "      <td>3</td>\n",
       "      <td>18th century</td>\n",
       "    </tr>\n",
       "    <tr>\n",
       "      <th>3</th>\n",
       "      <td>4</td>\n",
       "      <td>1920s</td>\n",
       "    </tr>\n",
       "    <tr>\n",
       "      <th>4</th>\n",
       "      <td>5</td>\n",
       "      <td>1930s</td>\n",
       "    </tr>\n",
       "  </tbody>\n",
       "</table>\n",
       "</div>"
      ],
      "text/plain": [
       "   tagId    genome_tag\n",
       "0      1           007\n",
       "1      2  007 (series)\n",
       "2      3  18th century\n",
       "3      4         1920s\n",
       "4      5         1930s"
      ]
     },
     "execution_count": 32,
     "metadata": {},
     "output_type": "execute_result"
    }
   ],
   "source": [
    "genome_tags.head()"
   ]
  },
  {
   "cell_type": "code",
   "execution_count": 14,
   "id": "a08ac539",
   "metadata": {},
   "outputs": [
    {
     "data": {
      "text/html": [
       "<div>\n",
       "<style scoped>\n",
       "    .dataframe tbody tr th:only-of-type {\n",
       "        vertical-align: middle;\n",
       "    }\n",
       "\n",
       "    .dataframe tbody tr th {\n",
       "        vertical-align: top;\n",
       "    }\n",
       "\n",
       "    .dataframe thead th {\n",
       "        text-align: right;\n",
       "    }\n",
       "</style>\n",
       "<table border=\"1\" class=\"dataframe\">\n",
       "  <thead>\n",
       "    <tr style=\"text-align: right;\">\n",
       "      <th></th>\n",
       "      <th>movieId</th>\n",
       "      <th>title</th>\n",
       "      <th>genres</th>\n",
       "    </tr>\n",
       "  </thead>\n",
       "  <tbody>\n",
       "    <tr>\n",
       "      <th>0</th>\n",
       "      <td>1</td>\n",
       "      <td>Toy Story (1995)</td>\n",
       "      <td>Adventure|Animation|Children|Comedy|Fantasy</td>\n",
       "    </tr>\n",
       "    <tr>\n",
       "      <th>1</th>\n",
       "      <td>2</td>\n",
       "      <td>Jumanji (1995)</td>\n",
       "      <td>Adventure|Children|Fantasy</td>\n",
       "    </tr>\n",
       "    <tr>\n",
       "      <th>2</th>\n",
       "      <td>3</td>\n",
       "      <td>Grumpier Old Men (1995)</td>\n",
       "      <td>Comedy|Romance</td>\n",
       "    </tr>\n",
       "    <tr>\n",
       "      <th>3</th>\n",
       "      <td>4</td>\n",
       "      <td>Waiting to Exhale (1995)</td>\n",
       "      <td>Comedy|Drama|Romance</td>\n",
       "    </tr>\n",
       "    <tr>\n",
       "      <th>4</th>\n",
       "      <td>5</td>\n",
       "      <td>Father of the Bride Part II (1995)</td>\n",
       "      <td>Comedy</td>\n",
       "    </tr>\n",
       "  </tbody>\n",
       "</table>\n",
       "</div>"
      ],
      "text/plain": [
       "   movieId                               title   \n",
       "0        1                    Toy Story (1995)  \\\n",
       "1        2                      Jumanji (1995)   \n",
       "2        3             Grumpier Old Men (1995)   \n",
       "3        4            Waiting to Exhale (1995)   \n",
       "4        5  Father of the Bride Part II (1995)   \n",
       "\n",
       "                                        genres  \n",
       "0  Adventure|Animation|Children|Comedy|Fantasy  \n",
       "1                   Adventure|Children|Fantasy  \n",
       "2                               Comedy|Romance  \n",
       "3                         Comedy|Drama|Romance  \n",
       "4                                       Comedy  "
      ]
     },
     "execution_count": 14,
     "metadata": {},
     "output_type": "execute_result"
    }
   ],
   "source": [
    "movies.head()"
   ]
  },
  {
   "cell_type": "code",
   "execution_count": 15,
   "id": "38dc00b1",
   "metadata": {},
   "outputs": [
    {
     "data": {
      "text/html": [
       "<div>\n",
       "<style scoped>\n",
       "    .dataframe tbody tr th:only-of-type {\n",
       "        vertical-align: middle;\n",
       "    }\n",
       "\n",
       "    .dataframe tbody tr th {\n",
       "        vertical-align: top;\n",
       "    }\n",
       "\n",
       "    .dataframe thead th {\n",
       "        text-align: right;\n",
       "    }\n",
       "</style>\n",
       "<table border=\"1\" class=\"dataframe\">\n",
       "  <thead>\n",
       "    <tr style=\"text-align: right;\">\n",
       "      <th></th>\n",
       "      <th>userId</th>\n",
       "      <th>movieId</th>\n",
       "      <th>tag</th>\n",
       "      <th>timestamp</th>\n",
       "    </tr>\n",
       "  </thead>\n",
       "  <tbody>\n",
       "    <tr>\n",
       "      <th>0</th>\n",
       "      <td>14</td>\n",
       "      <td>110</td>\n",
       "      <td>epic</td>\n",
       "      <td>1443148538</td>\n",
       "    </tr>\n",
       "    <tr>\n",
       "      <th>1</th>\n",
       "      <td>14</td>\n",
       "      <td>110</td>\n",
       "      <td>Medieval</td>\n",
       "      <td>1443148532</td>\n",
       "    </tr>\n",
       "    <tr>\n",
       "      <th>2</th>\n",
       "      <td>14</td>\n",
       "      <td>260</td>\n",
       "      <td>sci-fi</td>\n",
       "      <td>1442169410</td>\n",
       "    </tr>\n",
       "    <tr>\n",
       "      <th>3</th>\n",
       "      <td>14</td>\n",
       "      <td>260</td>\n",
       "      <td>space action</td>\n",
       "      <td>1442169421</td>\n",
       "    </tr>\n",
       "    <tr>\n",
       "      <th>4</th>\n",
       "      <td>14</td>\n",
       "      <td>318</td>\n",
       "      <td>imdb top 250</td>\n",
       "      <td>1442615195</td>\n",
       "    </tr>\n",
       "  </tbody>\n",
       "</table>\n",
       "</div>"
      ],
      "text/plain": [
       "   userId  movieId           tag   timestamp\n",
       "0      14      110          epic  1443148538\n",
       "1      14      110      Medieval  1443148532\n",
       "2      14      260        sci-fi  1442169410\n",
       "3      14      260  space action  1442169421\n",
       "4      14      318  imdb top 250  1442615195"
      ]
     },
     "execution_count": 15,
     "metadata": {},
     "output_type": "execute_result"
    }
   ],
   "source": [
    "tags.head()"
   ]
  },
  {
   "cell_type": "code",
   "execution_count": 16,
   "id": "a13d6791",
   "metadata": {},
   "outputs": [
    {
     "data": {
      "text/html": [
       "<div>\n",
       "<style scoped>\n",
       "    .dataframe tbody tr th:only-of-type {\n",
       "        vertical-align: middle;\n",
       "    }\n",
       "\n",
       "    .dataframe tbody tr th {\n",
       "        vertical-align: top;\n",
       "    }\n",
       "\n",
       "    .dataframe thead th {\n",
       "        text-align: right;\n",
       "    }\n",
       "</style>\n",
       "<table border=\"1\" class=\"dataframe\">\n",
       "  <thead>\n",
       "    <tr style=\"text-align: right;\">\n",
       "      <th></th>\n",
       "      <th>movieId</th>\n",
       "      <th>tagId</th>\n",
       "      <th>relevance</th>\n",
       "    </tr>\n",
       "  </thead>\n",
       "  <tbody>\n",
       "    <tr>\n",
       "      <th>0</th>\n",
       "      <td>1</td>\n",
       "      <td>1</td>\n",
       "      <td>0.02900</td>\n",
       "    </tr>\n",
       "    <tr>\n",
       "      <th>1</th>\n",
       "      <td>1</td>\n",
       "      <td>2</td>\n",
       "      <td>0.02375</td>\n",
       "    </tr>\n",
       "    <tr>\n",
       "      <th>2</th>\n",
       "      <td>1</td>\n",
       "      <td>3</td>\n",
       "      <td>0.05425</td>\n",
       "    </tr>\n",
       "    <tr>\n",
       "      <th>3</th>\n",
       "      <td>1</td>\n",
       "      <td>4</td>\n",
       "      <td>0.06875</td>\n",
       "    </tr>\n",
       "    <tr>\n",
       "      <th>4</th>\n",
       "      <td>1</td>\n",
       "      <td>5</td>\n",
       "      <td>0.16000</td>\n",
       "    </tr>\n",
       "  </tbody>\n",
       "</table>\n",
       "</div>"
      ],
      "text/plain": [
       "   movieId  tagId  relevance\n",
       "0        1      1    0.02900\n",
       "1        1      2    0.02375\n",
       "2        1      3    0.05425\n",
       "3        1      4    0.06875\n",
       "4        1      5    0.16000"
      ]
     },
     "execution_count": 16,
     "metadata": {},
     "output_type": "execute_result"
    }
   ],
   "source": [
    "genome_scores.head()"
   ]
  },
  {
   "cell_type": "code",
   "execution_count": 17,
   "id": "63974a97",
   "metadata": {},
   "outputs": [
    {
     "data": {
      "text/html": [
       "<div>\n",
       "<style scoped>\n",
       "    .dataframe tbody tr th:only-of-type {\n",
       "        vertical-align: middle;\n",
       "    }\n",
       "\n",
       "    .dataframe tbody tr th {\n",
       "        vertical-align: top;\n",
       "    }\n",
       "\n",
       "    .dataframe thead th {\n",
       "        text-align: right;\n",
       "    }\n",
       "</style>\n",
       "<table border=\"1\" class=\"dataframe\">\n",
       "  <thead>\n",
       "    <tr style=\"text-align: right;\">\n",
       "      <th></th>\n",
       "      <th>movieId</th>\n",
       "      <th>imdbId</th>\n",
       "      <th>tmdbId</th>\n",
       "    </tr>\n",
       "  </thead>\n",
       "  <tbody>\n",
       "    <tr>\n",
       "      <th>0</th>\n",
       "      <td>1</td>\n",
       "      <td>114709</td>\n",
       "      <td>862.0</td>\n",
       "    </tr>\n",
       "    <tr>\n",
       "      <th>1</th>\n",
       "      <td>2</td>\n",
       "      <td>113497</td>\n",
       "      <td>8844.0</td>\n",
       "    </tr>\n",
       "    <tr>\n",
       "      <th>2</th>\n",
       "      <td>3</td>\n",
       "      <td>113228</td>\n",
       "      <td>15602.0</td>\n",
       "    </tr>\n",
       "    <tr>\n",
       "      <th>3</th>\n",
       "      <td>4</td>\n",
       "      <td>114885</td>\n",
       "      <td>31357.0</td>\n",
       "    </tr>\n",
       "    <tr>\n",
       "      <th>4</th>\n",
       "      <td>5</td>\n",
       "      <td>113041</td>\n",
       "      <td>11862.0</td>\n",
       "    </tr>\n",
       "  </tbody>\n",
       "</table>\n",
       "</div>"
      ],
      "text/plain": [
       "   movieId  imdbId   tmdbId\n",
       "0        1  114709    862.0\n",
       "1        2  113497   8844.0\n",
       "2        3  113228  15602.0\n",
       "3        4  114885  31357.0\n",
       "4        5  113041  11862.0"
      ]
     },
     "execution_count": 17,
     "metadata": {},
     "output_type": "execute_result"
    }
   ],
   "source": [
    "links.head()"
   ]
  },
  {
   "cell_type": "code",
   "execution_count": 18,
   "id": "a7239f47",
   "metadata": {
    "scrolled": true
   },
   "outputs": [
    {
     "data": {
      "text/html": [
       "<div>\n",
       "<style scoped>\n",
       "    .dataframe tbody tr th:only-of-type {\n",
       "        vertical-align: middle;\n",
       "    }\n",
       "\n",
       "    .dataframe tbody tr th {\n",
       "        vertical-align: top;\n",
       "    }\n",
       "\n",
       "    .dataframe thead th {\n",
       "        text-align: right;\n",
       "    }\n",
       "</style>\n",
       "<table border=\"1\" class=\"dataframe\">\n",
       "  <thead>\n",
       "    <tr style=\"text-align: right;\">\n",
       "      <th></th>\n",
       "      <th>userId</th>\n",
       "      <th>movieId</th>\n",
       "      <th>rating</th>\n",
       "      <th>timestamp</th>\n",
       "    </tr>\n",
       "  </thead>\n",
       "  <tbody>\n",
       "    <tr>\n",
       "      <th>0</th>\n",
       "      <td>1</td>\n",
       "      <td>307</td>\n",
       "      <td>3.5</td>\n",
       "      <td>1256677221</td>\n",
       "    </tr>\n",
       "    <tr>\n",
       "      <th>1</th>\n",
       "      <td>1</td>\n",
       "      <td>481</td>\n",
       "      <td>3.5</td>\n",
       "      <td>1256677456</td>\n",
       "    </tr>\n",
       "    <tr>\n",
       "      <th>2</th>\n",
       "      <td>1</td>\n",
       "      <td>1091</td>\n",
       "      <td>1.5</td>\n",
       "      <td>1256677471</td>\n",
       "    </tr>\n",
       "    <tr>\n",
       "      <th>3</th>\n",
       "      <td>1</td>\n",
       "      <td>1257</td>\n",
       "      <td>4.5</td>\n",
       "      <td>1256677460</td>\n",
       "    </tr>\n",
       "    <tr>\n",
       "      <th>4</th>\n",
       "      <td>1</td>\n",
       "      <td>1449</td>\n",
       "      <td>4.5</td>\n",
       "      <td>1256677264</td>\n",
       "    </tr>\n",
       "  </tbody>\n",
       "</table>\n",
       "</div>"
      ],
      "text/plain": [
       "   userId  movieId  rating   timestamp\n",
       "0       1      307     3.5  1256677221\n",
       "1       1      481     3.5  1256677456\n",
       "2       1     1091     1.5  1256677471\n",
       "3       1     1257     4.5  1256677460\n",
       "4       1     1449     4.5  1256677264"
      ]
     },
     "execution_count": 18,
     "metadata": {},
     "output_type": "execute_result"
    }
   ],
   "source": [
    "ratings.head()"
   ]
  },
  {
   "cell_type": "markdown",
   "id": "015bddca",
   "metadata": {},
   "source": [
    "# The Weighted Rating (WR) is a formula commonly used in recommendation systems to calculate a weighted average rating for items, such as movies or products, based on their ratings and other factors. The WR formula takes into account both the average rating of an item (R) and the number of votes or ratings it has received (v), as well as a minimum threshold of votes required for an item to be considered (m), and the mean vote across all items (C).\n",
    "\n",
    "    In this project, I will be utilizing the Weighted Rating (WR) formula to calculate the weighted average ratings for movies, and incorporate it into the recommendation system.\n",
    "\n",
    "    Weighted Rating (WR) = (v / (v + m)) * R + (m / (v + m)) * C\n",
    "    \n",
    "    WR: Weighted Rating, which is the final calculated value.\n",
    "    v: Number of votes (or ratings) received by the item.\n",
    "    m: Minimum votes (or ratings) required for the item to be considered.\n",
    "    R: Average rating of the item.\n",
    "    C: Mean vote (or rating) across all items."
   ]
  },
  {
   "cell_type": "markdown",
   "id": "23738ec6",
   "metadata": {},
   "source": [
    "# <font color='red'>Now, let's determine the values of each variable that are required for the computation.</font>"
   ]
  },
  {
   "cell_type": "markdown",
   "id": "d65cb921",
   "metadata": {},
   "source": [
    "# We can create a new dataframe to store the movie information that we want to compute."
   ]
  },
  {
   "cell_type": "code",
   "execution_count": 172,
   "id": "3733dcd9",
   "metadata": {},
   "outputs": [],
   "source": [
    "movies_query = pd.DataFrame()"
   ]
  },
  {
   "cell_type": "markdown",
   "id": "8a031a42",
   "metadata": {},
   "source": [
    "# Average rating of the item."
   ]
  },
  {
   "cell_type": "code",
   "execution_count": 173,
   "id": "88998f27",
   "metadata": {},
   "outputs": [
    {
     "data": {
      "text/plain": [
       "movieId\n",
       "1         3.886649\n",
       "2         3.246583\n",
       "3         3.173981\n",
       "4         2.874540\n",
       "5         3.077291\n",
       "            ...   \n",
       "193876    3.000000\n",
       "193878    2.000000\n",
       "193880    2.000000\n",
       "193882    2.000000\n",
       "193886    3.250000\n",
       "Name: R, Length: 53889, dtype: float64"
      ]
     },
     "execution_count": 173,
     "metadata": {},
     "output_type": "execute_result"
    }
   ],
   "source": [
    "movies_query['R'] = ratings.groupby(\"movieId\").rating.mean()\n",
    "movies_query.R"
   ]
  },
  {
   "cell_type": "markdown",
   "id": "b116bd59",
   "metadata": {},
   "source": [
    "# Mean vote (or rating) across all items."
   ]
  },
  {
   "cell_type": "code",
   "execution_count": 174,
   "id": "018fb361",
   "metadata": {
    "scrolled": true
   },
   "outputs": [
    {
     "name": "stdout",
     "output_type": "stream",
     "text": [
      "3.0685927253973193 out of 5.0\n"
     ]
    }
   ],
   "source": [
    "C = movies_query.R.mean()\n",
    "print(C, \"out of\", ratings.rating.max())"
   ]
  },
  {
   "cell_type": "markdown",
   "id": "c1edc03d",
   "metadata": {},
   "source": [
    "# Number of votes (or ratings) received by the item."
   ]
  },
  {
   "cell_type": "code",
   "execution_count": 175,
   "id": "c92ab0ee",
   "metadata": {},
   "outputs": [
    {
     "data": {
      "text/plain": [
       "movieId\n",
       "1         68469\n",
       "2         27143\n",
       "3         15585\n",
       "4          2989\n",
       "5         15474\n",
       "          ...  \n",
       "193876        1\n",
       "193878        1\n",
       "193880        1\n",
       "193882        1\n",
       "193886        2\n",
       "Name: v, Length: 53889, dtype: int64"
      ]
     },
     "execution_count": 175,
     "metadata": {},
     "output_type": "execute_result"
    }
   ],
   "source": [
    "movies_query['v'] = ratings.groupby(\"movieId\").rating.count()\n",
    "movies_query.v"
   ]
  },
  {
   "cell_type": "markdown",
   "id": "e5ff13bd",
   "metadata": {},
   "source": [
    "# Minimum votes (or ratings) required for the item to be considered."
   ]
  },
  {
   "cell_type": "code",
   "execution_count": 176,
   "id": "b7d8bc9b",
   "metadata": {
    "scrolled": true
   },
   "outputs": [
    {
     "name": "stdout",
     "output_type": "stream",
     "text": [
      "95.0% 1855.0\n"
     ]
    }
   ],
   "source": [
    "PERCENTAGE = .95 # set to 95%\n",
    "m = movies_query.v.quantile(PERCENTAGE)\n",
    "print(f\"{PERCENTAGE * 100}%\", m)"
   ]
  },
  {
   "cell_type": "markdown",
   "id": "3c337bc1",
   "metadata": {},
   "source": [
    "# Calculate the weighted average ratings using the provided formula."
   ]
  },
  {
   "cell_type": "code",
   "execution_count": 177,
   "id": "e567928d",
   "metadata": {
    "scrolled": true
   },
   "outputs": [
    {
     "data": {
      "text/html": [
       "<div>\n",
       "<style scoped>\n",
       "    .dataframe tbody tr th:only-of-type {\n",
       "        vertical-align: middle;\n",
       "    }\n",
       "\n",
       "    .dataframe tbody tr th {\n",
       "        vertical-align: top;\n",
       "    }\n",
       "\n",
       "    .dataframe thead th {\n",
       "        text-align: right;\n",
       "    }\n",
       "</style>\n",
       "<table border=\"1\" class=\"dataframe\">\n",
       "  <thead>\n",
       "    <tr style=\"text-align: right;\">\n",
       "      <th></th>\n",
       "      <th>R</th>\n",
       "      <th>v</th>\n",
       "    </tr>\n",
       "    <tr>\n",
       "      <th>movieId</th>\n",
       "      <th></th>\n",
       "      <th></th>\n",
       "    </tr>\n",
       "  </thead>\n",
       "  <tbody>\n",
       "    <tr>\n",
       "      <th>1</th>\n",
       "      <td>3.886649</td>\n",
       "      <td>68469</td>\n",
       "    </tr>\n",
       "    <tr>\n",
       "      <th>2</th>\n",
       "      <td>3.246583</td>\n",
       "      <td>27143</td>\n",
       "    </tr>\n",
       "    <tr>\n",
       "      <th>3</th>\n",
       "      <td>3.173981</td>\n",
       "      <td>15585</td>\n",
       "    </tr>\n",
       "    <tr>\n",
       "      <th>4</th>\n",
       "      <td>2.874540</td>\n",
       "      <td>2989</td>\n",
       "    </tr>\n",
       "    <tr>\n",
       "      <th>5</th>\n",
       "      <td>3.077291</td>\n",
       "      <td>15474</td>\n",
       "    </tr>\n",
       "  </tbody>\n",
       "</table>\n",
       "</div>"
      ],
      "text/plain": [
       "                R      v\n",
       "movieId                 \n",
       "1        3.886649  68469\n",
       "2        3.246583  27143\n",
       "3        3.173981  15585\n",
       "4        2.874540   2989\n",
       "5        3.077291  15474"
      ]
     },
     "execution_count": 177,
     "metadata": {},
     "output_type": "execute_result"
    }
   ],
   "source": [
    "movies_query.head()"
   ]
  },
  {
   "cell_type": "code",
   "execution_count": 178,
   "id": "c888f714",
   "metadata": {},
   "outputs": [],
   "source": [
    "def WR(query):\n",
    "    R = query.R\n",
    "    v = query.v\n",
    "    return (v / (v + m)) * R + (m / (v + m)) * C"
   ]
  },
  {
   "cell_type": "code",
   "execution_count": 179,
   "id": "fcdf9e7f",
   "metadata": {},
   "outputs": [],
   "source": [
    "movies_query[\"WR\"] = movies_query.apply(WR, axis=1)"
   ]
  },
  {
   "cell_type": "code",
   "execution_count": 180,
   "id": "90df366a",
   "metadata": {},
   "outputs": [
    {
     "data": {
      "text/html": [
       "<div>\n",
       "<style scoped>\n",
       "    .dataframe tbody tr th:only-of-type {\n",
       "        vertical-align: middle;\n",
       "    }\n",
       "\n",
       "    .dataframe tbody tr th {\n",
       "        vertical-align: top;\n",
       "    }\n",
       "\n",
       "    .dataframe thead th {\n",
       "        text-align: right;\n",
       "    }\n",
       "</style>\n",
       "<table border=\"1\" class=\"dataframe\">\n",
       "  <thead>\n",
       "    <tr style=\"text-align: right;\">\n",
       "      <th></th>\n",
       "      <th>R</th>\n",
       "      <th>v</th>\n",
       "      <th>WR</th>\n",
       "    </tr>\n",
       "    <tr>\n",
       "      <th>movieId</th>\n",
       "      <th></th>\n",
       "      <th></th>\n",
       "      <th></th>\n",
       "    </tr>\n",
       "  </thead>\n",
       "  <tbody>\n",
       "    <tr>\n",
       "      <th>1</th>\n",
       "      <td>3.886649</td>\n",
       "      <td>68469</td>\n",
       "      <td>3.865071</td>\n",
       "    </tr>\n",
       "    <tr>\n",
       "      <th>2</th>\n",
       "      <td>3.246583</td>\n",
       "      <td>27143</td>\n",
       "      <td>3.235197</td>\n",
       "    </tr>\n",
       "    <tr>\n",
       "      <th>3</th>\n",
       "      <td>3.173981</td>\n",
       "      <td>15585</td>\n",
       "      <td>3.162772</td>\n",
       "    </tr>\n",
       "    <tr>\n",
       "      <th>4</th>\n",
       "      <td>2.874540</td>\n",
       "      <td>2989</td>\n",
       "      <td>2.948852</td>\n",
       "    </tr>\n",
       "    <tr>\n",
       "      <th>5</th>\n",
       "      <td>3.077291</td>\n",
       "      <td>15474</td>\n",
       "      <td>3.076360</td>\n",
       "    </tr>\n",
       "  </tbody>\n",
       "</table>\n",
       "</div>"
      ],
      "text/plain": [
       "                R      v        WR\n",
       "movieId                           \n",
       "1        3.886649  68469  3.865071\n",
       "2        3.246583  27143  3.235197\n",
       "3        3.173981  15585  3.162772\n",
       "4        2.874540   2989  2.948852\n",
       "5        3.077291  15474  3.076360"
      ]
     },
     "execution_count": 180,
     "metadata": {},
     "output_type": "execute_result"
    }
   ],
   "source": [
    "movies_query.head()"
   ]
  },
  {
   "cell_type": "markdown",
   "id": "39f3ce67",
   "metadata": {},
   "source": [
    "# Now, let's include the movie title in this dataframe"
   ]
  },
  {
   "cell_type": "code",
   "execution_count": 181,
   "id": "9e13c12a",
   "metadata": {},
   "outputs": [],
   "source": [
    "movies_query = pd.merge(movies_query, movies, on=\"movieId\")\n",
    "movies_query.reset_index(drop=True, inplace=True)"
   ]
  },
  {
   "cell_type": "code",
   "execution_count": 182,
   "id": "1636e446",
   "metadata": {
    "scrolled": true
   },
   "outputs": [
    {
     "data": {
      "text/html": [
       "<div>\n",
       "<style scoped>\n",
       "    .dataframe tbody tr th:only-of-type {\n",
       "        vertical-align: middle;\n",
       "    }\n",
       "\n",
       "    .dataframe tbody tr th {\n",
       "        vertical-align: top;\n",
       "    }\n",
       "\n",
       "    .dataframe thead th {\n",
       "        text-align: right;\n",
       "    }\n",
       "</style>\n",
       "<table border=\"1\" class=\"dataframe\">\n",
       "  <thead>\n",
       "    <tr style=\"text-align: right;\">\n",
       "      <th></th>\n",
       "      <th>movieId</th>\n",
       "      <th>R</th>\n",
       "      <th>v</th>\n",
       "      <th>WR</th>\n",
       "      <th>title</th>\n",
       "      <th>genres</th>\n",
       "    </tr>\n",
       "  </thead>\n",
       "  <tbody>\n",
       "    <tr>\n",
       "      <th>0</th>\n",
       "      <td>1</td>\n",
       "      <td>3.886649</td>\n",
       "      <td>68469</td>\n",
       "      <td>3.865071</td>\n",
       "      <td>Toy Story (1995)</td>\n",
       "      <td>Adventure|Animation|Children|Comedy|Fantasy</td>\n",
       "    </tr>\n",
       "    <tr>\n",
       "      <th>1</th>\n",
       "      <td>2</td>\n",
       "      <td>3.246583</td>\n",
       "      <td>27143</td>\n",
       "      <td>3.235197</td>\n",
       "      <td>Jumanji (1995)</td>\n",
       "      <td>Adventure|Children|Fantasy</td>\n",
       "    </tr>\n",
       "    <tr>\n",
       "      <th>2</th>\n",
       "      <td>3</td>\n",
       "      <td>3.173981</td>\n",
       "      <td>15585</td>\n",
       "      <td>3.162772</td>\n",
       "      <td>Grumpier Old Men (1995)</td>\n",
       "      <td>Comedy|Romance</td>\n",
       "    </tr>\n",
       "    <tr>\n",
       "      <th>3</th>\n",
       "      <td>4</td>\n",
       "      <td>2.874540</td>\n",
       "      <td>2989</td>\n",
       "      <td>2.948852</td>\n",
       "      <td>Waiting to Exhale (1995)</td>\n",
       "      <td>Comedy|Drama|Romance</td>\n",
       "    </tr>\n",
       "    <tr>\n",
       "      <th>4</th>\n",
       "      <td>5</td>\n",
       "      <td>3.077291</td>\n",
       "      <td>15474</td>\n",
       "      <td>3.076360</td>\n",
       "      <td>Father of the Bride Part II (1995)</td>\n",
       "      <td>Comedy</td>\n",
       "    </tr>\n",
       "  </tbody>\n",
       "</table>\n",
       "</div>"
      ],
      "text/plain": [
       "   movieId         R      v        WR                               title   \n",
       "0        1  3.886649  68469  3.865071                    Toy Story (1995)  \\\n",
       "1        2  3.246583  27143  3.235197                      Jumanji (1995)   \n",
       "2        3  3.173981  15585  3.162772             Grumpier Old Men (1995)   \n",
       "3        4  2.874540   2989  2.948852            Waiting to Exhale (1995)   \n",
       "4        5  3.077291  15474  3.076360  Father of the Bride Part II (1995)   \n",
       "\n",
       "                                        genres  \n",
       "0  Adventure|Animation|Children|Comedy|Fantasy  \n",
       "1                   Adventure|Children|Fantasy  \n",
       "2                               Comedy|Romance  \n",
       "3                         Comedy|Drama|Romance  \n",
       "4                                       Comedy  "
      ]
     },
     "execution_count": 182,
     "metadata": {},
     "output_type": "execute_result"
    }
   ],
   "source": [
    "movies_query.head()"
   ]
  },
  {
   "cell_type": "markdown",
   "id": "cc902a72",
   "metadata": {},
   "source": [
    "# We can now sort the values to identify the top scores, and depending on our requirements, we can select the top 10 or top 20 recommendations for our recommendation system."
   ]
  },
  {
   "cell_type": "code",
   "execution_count": 185,
   "id": "6712bfb5",
   "metadata": {},
   "outputs": [],
   "source": [
    "movies_query = movies_query.sort_values(\"WR\", ascending=False)\n",
    "movies_query.reset_index(drop=True, inplace=True)"
   ]
  },
  {
   "cell_type": "code",
   "execution_count": 186,
   "id": "0c694e1a",
   "metadata": {},
   "outputs": [
    {
     "data": {
      "text/html": [
       "<div>\n",
       "<style scoped>\n",
       "    .dataframe tbody tr th:only-of-type {\n",
       "        vertical-align: middle;\n",
       "    }\n",
       "\n",
       "    .dataframe tbody tr th {\n",
       "        vertical-align: top;\n",
       "    }\n",
       "\n",
       "    .dataframe thead th {\n",
       "        text-align: right;\n",
       "    }\n",
       "</style>\n",
       "<table border=\"1\" class=\"dataframe\">\n",
       "  <thead>\n",
       "    <tr style=\"text-align: right;\">\n",
       "      <th></th>\n",
       "      <th>movieId</th>\n",
       "      <th>R</th>\n",
       "      <th>v</th>\n",
       "      <th>WR</th>\n",
       "      <th>title</th>\n",
       "      <th>genres</th>\n",
       "    </tr>\n",
       "  </thead>\n",
       "  <tbody>\n",
       "    <tr>\n",
       "      <th>0</th>\n",
       "      <td>318</td>\n",
       "      <td>4.424188</td>\n",
       "      <td>97999</td>\n",
       "      <td>4.399005</td>\n",
       "      <td>Shawshank Redemption, The (1994)</td>\n",
       "      <td>Crime|Drama</td>\n",
       "    </tr>\n",
       "    <tr>\n",
       "      <th>1</th>\n",
       "      <td>858</td>\n",
       "      <td>4.332893</td>\n",
       "      <td>60904</td>\n",
       "      <td>4.295523</td>\n",
       "      <td>Godfather, The (1972)</td>\n",
       "      <td>Crime|Drama</td>\n",
       "    </tr>\n",
       "    <tr>\n",
       "      <th>2</th>\n",
       "      <td>50</td>\n",
       "      <td>4.291959</td>\n",
       "      <td>62180</td>\n",
       "      <td>4.256520</td>\n",
       "      <td>Usual Suspects, The (1995)</td>\n",
       "      <td>Crime|Mystery|Thriller</td>\n",
       "    </tr>\n",
       "    <tr>\n",
       "      <th>3</th>\n",
       "      <td>527</td>\n",
       "      <td>4.257502</td>\n",
       "      <td>71516</td>\n",
       "      <td>4.227443</td>\n",
       "      <td>Schindler's List (1993)</td>\n",
       "      <td>Drama|War</td>\n",
       "    </tr>\n",
       "    <tr>\n",
       "      <th>4</th>\n",
       "      <td>1221</td>\n",
       "      <td>4.263035</td>\n",
       "      <td>38875</td>\n",
       "      <td>4.208636</td>\n",
       "      <td>Godfather: Part II, The (1974)</td>\n",
       "      <td>Crime|Drama</td>\n",
       "    </tr>\n",
       "    <tr>\n",
       "      <th>5</th>\n",
       "      <td>2959</td>\n",
       "      <td>4.230663</td>\n",
       "      <td>65678</td>\n",
       "      <td>4.198743</td>\n",
       "      <td>Fight Club (1999)</td>\n",
       "      <td>Action|Crime|Drama|Thriller</td>\n",
       "    </tr>\n",
       "    <tr>\n",
       "      <th>6</th>\n",
       "      <td>1193</td>\n",
       "      <td>4.222920</td>\n",
       "      <td>42181</td>\n",
       "      <td>4.174295</td>\n",
       "      <td>One Flew Over the Cuckoo's Nest (1975)</td>\n",
       "      <td>Drama</td>\n",
       "    </tr>\n",
       "    <tr>\n",
       "      <th>7</th>\n",
       "      <td>296</td>\n",
       "      <td>4.173971</td>\n",
       "      <td>92406</td>\n",
       "      <td>4.152218</td>\n",
       "      <td>Pulp Fiction (1994)</td>\n",
       "      <td>Comedy|Crime|Drama|Thriller</td>\n",
       "    </tr>\n",
       "    <tr>\n",
       "      <th>8</th>\n",
       "      <td>912</td>\n",
       "      <td>4.210098</td>\n",
       "      <td>31095</td>\n",
       "      <td>4.145834</td>\n",
       "      <td>Casablanca (1942)</td>\n",
       "      <td>Drama|Romance</td>\n",
       "    </tr>\n",
       "    <tr>\n",
       "      <th>9</th>\n",
       "      <td>904</td>\n",
       "      <td>4.230799</td>\n",
       "      <td>22264</td>\n",
       "      <td>4.141413</td>\n",
       "      <td>Rear Window (1954)</td>\n",
       "      <td>Mystery|Thriller</td>\n",
       "    </tr>\n",
       "    <tr>\n",
       "      <th>10</th>\n",
       "      <td>750</td>\n",
       "      <td>4.208876</td>\n",
       "      <td>29484</td>\n",
       "      <td>4.141381</td>\n",
       "      <td>Dr. Strangelove or: How I Learned to Stop Worr...</td>\n",
       "      <td>Comedy|War</td>\n",
       "    </tr>\n",
       "    <tr>\n",
       "      <th>11</th>\n",
       "      <td>58559</td>\n",
       "      <td>4.173756</td>\n",
       "      <td>44741</td>\n",
       "      <td>4.129759</td>\n",
       "      <td>Dark Knight, The (2008)</td>\n",
       "      <td>Action|Crime|Drama|IMAX</td>\n",
       "    </tr>\n",
       "    <tr>\n",
       "      <th>12</th>\n",
       "      <td>593</td>\n",
       "      <td>4.151412</td>\n",
       "      <td>87899</td>\n",
       "      <td>4.129033</td>\n",
       "      <td>Silence of the Lambs, The (1991)</td>\n",
       "      <td>Crime|Horror|Thriller</td>\n",
       "    </tr>\n",
       "    <tr>\n",
       "      <th>13</th>\n",
       "      <td>1203</td>\n",
       "      <td>4.237075</td>\n",
       "      <td>17931</td>\n",
       "      <td>4.127527</td>\n",
       "      <td>12 Angry Men (1957)</td>\n",
       "      <td>Drama</td>\n",
       "    </tr>\n",
       "    <tr>\n",
       "      <th>14</th>\n",
       "      <td>2571</td>\n",
       "      <td>4.149695</td>\n",
       "      <td>84545</td>\n",
       "      <td>4.126484</td>\n",
       "      <td>Matrix, The (1999)</td>\n",
       "      <td>Action|Sci-Fi|Thriller</td>\n",
       "    </tr>\n",
       "    <tr>\n",
       "      <th>15</th>\n",
       "      <td>5618</td>\n",
       "      <td>4.207668</td>\n",
       "      <td>23227</td>\n",
       "      <td>4.123425</td>\n",
       "      <td>Spirited Away (Sen to Chihiro no kamikakushi) ...</td>\n",
       "      <td>Adventure|Animation|Fantasy</td>\n",
       "    </tr>\n",
       "    <tr>\n",
       "      <th>16</th>\n",
       "      <td>1213</td>\n",
       "      <td>4.177603</td>\n",
       "      <td>35934</td>\n",
       "      <td>4.123164</td>\n",
       "      <td>Goodfellas (1990)</td>\n",
       "      <td>Crime|Drama</td>\n",
       "    </tr>\n",
       "    <tr>\n",
       "      <th>17</th>\n",
       "      <td>2019</td>\n",
       "      <td>4.254116</td>\n",
       "      <td>14578</td>\n",
       "      <td>4.120291</td>\n",
       "      <td>Seven Samurai (Shichinin no samurai) (1954)</td>\n",
       "      <td>Action|Adventure|Drama</td>\n",
       "    </tr>\n",
       "    <tr>\n",
       "      <th>18</th>\n",
       "      <td>79132</td>\n",
       "      <td>4.162990</td>\n",
       "      <td>41475</td>\n",
       "      <td>4.116138</td>\n",
       "      <td>Inception (2010)</td>\n",
       "      <td>Action|Crime|Drama|Mystery|Sci-Fi|Thriller|IMAX</td>\n",
       "    </tr>\n",
       "    <tr>\n",
       "      <th>19</th>\n",
       "      <td>4226</td>\n",
       "      <td>4.153844</td>\n",
       "      <td>43739</td>\n",
       "      <td>4.109691</td>\n",
       "      <td>Memento (2000)</td>\n",
       "      <td>Mystery|Thriller</td>\n",
       "    </tr>\n",
       "  </tbody>\n",
       "</table>\n",
       "</div>"
      ],
      "text/plain": [
       "    movieId         R      v        WR   \n",
       "0       318  4.424188  97999  4.399005  \\\n",
       "1       858  4.332893  60904  4.295523   \n",
       "2        50  4.291959  62180  4.256520   \n",
       "3       527  4.257502  71516  4.227443   \n",
       "4      1221  4.263035  38875  4.208636   \n",
       "5      2959  4.230663  65678  4.198743   \n",
       "6      1193  4.222920  42181  4.174295   \n",
       "7       296  4.173971  92406  4.152218   \n",
       "8       912  4.210098  31095  4.145834   \n",
       "9       904  4.230799  22264  4.141413   \n",
       "10      750  4.208876  29484  4.141381   \n",
       "11    58559  4.173756  44741  4.129759   \n",
       "12      593  4.151412  87899  4.129033   \n",
       "13     1203  4.237075  17931  4.127527   \n",
       "14     2571  4.149695  84545  4.126484   \n",
       "15     5618  4.207668  23227  4.123425   \n",
       "16     1213  4.177603  35934  4.123164   \n",
       "17     2019  4.254116  14578  4.120291   \n",
       "18    79132  4.162990  41475  4.116138   \n",
       "19     4226  4.153844  43739  4.109691   \n",
       "\n",
       "                                                title   \n",
       "0                    Shawshank Redemption, The (1994)  \\\n",
       "1                               Godfather, The (1972)   \n",
       "2                          Usual Suspects, The (1995)   \n",
       "3                             Schindler's List (1993)   \n",
       "4                      Godfather: Part II, The (1974)   \n",
       "5                                   Fight Club (1999)   \n",
       "6              One Flew Over the Cuckoo's Nest (1975)   \n",
       "7                                 Pulp Fiction (1994)   \n",
       "8                                   Casablanca (1942)   \n",
       "9                                  Rear Window (1954)   \n",
       "10  Dr. Strangelove or: How I Learned to Stop Worr...   \n",
       "11                            Dark Knight, The (2008)   \n",
       "12                   Silence of the Lambs, The (1991)   \n",
       "13                                12 Angry Men (1957)   \n",
       "14                                 Matrix, The (1999)   \n",
       "15  Spirited Away (Sen to Chihiro no kamikakushi) ...   \n",
       "16                                  Goodfellas (1990)   \n",
       "17        Seven Samurai (Shichinin no samurai) (1954)   \n",
       "18                                   Inception (2010)   \n",
       "19                                     Memento (2000)   \n",
       "\n",
       "                                             genres  \n",
       "0                                       Crime|Drama  \n",
       "1                                       Crime|Drama  \n",
       "2                            Crime|Mystery|Thriller  \n",
       "3                                         Drama|War  \n",
       "4                                       Crime|Drama  \n",
       "5                       Action|Crime|Drama|Thriller  \n",
       "6                                             Drama  \n",
       "7                       Comedy|Crime|Drama|Thriller  \n",
       "8                                     Drama|Romance  \n",
       "9                                  Mystery|Thriller  \n",
       "10                                       Comedy|War  \n",
       "11                          Action|Crime|Drama|IMAX  \n",
       "12                            Crime|Horror|Thriller  \n",
       "13                                            Drama  \n",
       "14                           Action|Sci-Fi|Thriller  \n",
       "15                      Adventure|Animation|Fantasy  \n",
       "16                                      Crime|Drama  \n",
       "17                           Action|Adventure|Drama  \n",
       "18  Action|Crime|Drama|Mystery|Sci-Fi|Thriller|IMAX  \n",
       "19                                 Mystery|Thriller  "
      ]
     },
     "execution_count": 186,
     "metadata": {},
     "output_type": "execute_result"
    }
   ],
   "source": [
    "movies_query.head(20)"
   ]
  },
  {
   "cell_type": "markdown",
   "id": "9343ee63",
   "metadata": {},
   "source": [
    "### <font color='green'>Notes:   One potential shortcoming of using a recommendation system with the Weighted Rating (WR) formula is that it may not fully capture the nuances and complexities of user preferences. The formula relies solely on weighted averages of ratings and does not take into account other factors such as user demographics, contextual information, or temporal dynamics. This can result in limitations in the accuracy and relevance of the recommendations, as it may not consider the individual preferences, tastes, and behaviors of users. Additionally, the WR formula may not perform well in scenarios with sparse or imbalanced data, as it gives equal weight to all ratings without considering their reliability or quality.</font>"
   ]
  }
 ],
 "metadata": {
  "kernelspec": {
   "display_name": "Python 3 (ipykernel)",
   "language": "python",
   "name": "python3"
  },
  "language_info": {
   "codemirror_mode": {
    "name": "ipython",
    "version": 3
   },
   "file_extension": ".py",
   "mimetype": "text/x-python",
   "name": "python",
   "nbconvert_exporter": "python",
   "pygments_lexer": "ipython3",
   "version": "3.8.10"
  }
 },
 "nbformat": 4,
 "nbformat_minor": 5
}
